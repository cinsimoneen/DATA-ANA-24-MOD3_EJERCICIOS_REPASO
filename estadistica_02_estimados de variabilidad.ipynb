{
 "cells": [
  {
   "cell_type": "code",
   "execution_count": 1,
   "metadata": {},
   "outputs": [
    {
     "data": {
      "text/plain": [
       "np.float64(2.9166666666666665)"
      ]
     },
     "execution_count": 1,
     "metadata": {},
     "output_type": "execute_result"
    }
   ],
   "source": [
    "#Varianza\n",
    "#La varianza es una medida de variabilidad que indica la dispersión de un conjunto de datos con respecto a su media. \n",
    "#La varianza ofrece una medida cuantitativa de la dispersión de los datos. \n",
    "#Valores de varianza altos indican una mayor dispersión, mientras que valores bajos indican que los datos están más agrupados alrededor de la media\n",
    "\n",
    "import statistics\n",
    "import numpy as np\n",
    "from scipy import stats\n",
    "import pandas as pd\n",
    "\n",
    "data_df = pd.DataFrame({\n",
    "    \"col1\": [1,2,3,2,2,100],\n",
    "    \"col2\": [4.,5,6,7,8,9],\n",
    "    \"col3\": [3,3,2,2,6,6]    \n",
    "})\n",
    "\n",
    "# poniendo una columna del df en una serie \n",
    "data_serie=data_df.col2\n",
    "data_serie\n",
    "\n",
    "# poniendo la serie en un arreglo numpy \n",
    "data_vector = data_serie.to_numpy()\n",
    "data_vector\n",
    "\n",
    "#varianza poblacional a mano\n",
    "n = len(data_df.col2)\n",
    "((4.0 - 6.5)**2 + (5.0 - 6.5)**2 + (6.0 - 6.5)**2 + (7.0 - 6.5)**2 + (8.0 - 6.5)**2 + (9.0 - 6.5)**2) / (n-1)\n",
    "\n",
    "#statistics\n",
    "statistics.pvariance(data_df.col2)\n",
    "\n",
    "#scipy  aqui calcula la varianza poniendo limites por los valores atípicos\n",
    "stats.tvar(data_df.col1, limits=(0, 5))\n",
    "\n",
    "#pandas\n",
    "data_serie.var()\n",
    "data_df.var()\n",
    "\n",
    "data_serie.var(ddof=0)  # grados de libertad , si lo ponemos en cero nos da varianza poblaional si es igual a uno varianza muestral\n"
   ]
  },
  {
   "cell_type": "code",
   "execution_count": 2,
   "metadata": {},
   "outputs": [
    {
     "data": {
      "text/plain": [
       "col1    36.527007\n",
       "col2     1.707825\n",
       "col3     1.699673\n",
       "dtype: float64"
      ]
     },
     "execution_count": 2,
     "metadata": {},
     "output_type": "execute_result"
    }
   ],
   "source": [
    "#Desviación típica o Desviación Estandar\n",
    "#Es la raíz cuadrada de la Varianza\n",
    "#La desviación estándar o desviación típica es la medida de dispersión más común e indica\n",
    "# cómo de dispersos se encuentran los datos con respecto a la media. \n",
    "# Cuando mayor sea la desviación estándar, mayor será la dispersión de los datos.\n",
    "import statistics\n",
    "import numpy as np\n",
    "from scipy import stats\n",
    "import pandas as pd\n",
    "\n",
    "data_df = pd.DataFrame({\n",
    "    \"col1\": [1,2,3,2,2,100],\n",
    "    \"col2\": [4.,5,6,7,8,9],\n",
    "    \"col3\": [3,3,2,2,6,6]    \n",
    "})\n",
    "\n",
    "# poniendo una columna del df en una serie \n",
    "data_serie=data_df.col2\n",
    "data_serie\n",
    "\n",
    "# poniendo la serie en un arreglo numpy \n",
    "data_vector = data_serie.to_numpy()\n",
    "data_vector\n",
    "\n",
    "#con statistics\n",
    "#desviacion estandar muestral\n",
    "statistics.stdev(data_df.col2)\n",
    "#desviacion estandar poblacional\n",
    "statistics.pstdev(data_df.col2)\n",
    "\n",
    "#con scipy\n",
    "stats.tstd(data_df.col2)  #muestral\n",
    "stats.tstd(data_df.col2,ddof=0)  #poblacional\n",
    "\n",
    "#con limites \n",
    "stats.tstd(data_df.col1,limits=(0,5),ddof=0)  #poblacional y limites para dejar afura valores atípicos\n",
    "\n",
    "#con pandas\n",
    "data_serie.std() #muestral\n",
    "data_serie.std(ddof=0) #poblacional\n",
    "\n",
    "data_df.std() #muestral\n",
    "data_df.std(ddof=0) #poblacional\n"
   ]
  }
 ],
 "metadata": {
  "kernelspec": {
   "display_name": ".venv",
   "language": "python",
   "name": "python3"
  },
  "language_info": {
   "codemirror_mode": {
    "name": "ipython",
    "version": 3
   },
   "file_extension": ".py",
   "mimetype": "text/x-python",
   "name": "python",
   "nbconvert_exporter": "python",
   "pygments_lexer": "ipython3",
   "version": "3.12.5"
  }
 },
 "nbformat": 4,
 "nbformat_minor": 2
}
