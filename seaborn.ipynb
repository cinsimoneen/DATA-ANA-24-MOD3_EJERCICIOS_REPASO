{
 "cells": [
  {
   "cell_type": "code",
   "execution_count": null,
   "metadata": {},
   "outputs": [],
   "source": [
    "# seaborn\n",
    "#seaborn crea graficas relacion (relplot), distribucion(displot) y categoricas (catplot)\n",
    "import seaborn as sns\n",
    "\n",
    "propinas=sns.load_dataset(\"tips\") # datatset de pruebas que viene con seaborn\n",
    "propinas\n",
    "\n",
    "sns.relplot(data=propinas,\n",
    "           x=\"total_bill\",\n",
    "           y=\"tip\")"
   ]
  },
  {
   "cell_type": "code",
   "execution_count": null,
   "metadata": {},
   "outputs": [],
   "source": [
    "#seaborn basico linea\n",
    "import seaborn as sns\n",
    "\n",
    "propinas=sns.load_dataset(\"tips\") # datatset de pruebas que viene con seaborn\n",
    "propinas\n",
    "\n",
    "sns.relplot(data=propinas,\n",
    "           x=\"total_bill\",\n",
    "           y=\"tip\",\n",
    "           kind=\"line\")   #kind tipo de grafico por hacer si no se pone pone skater        "
   ]
  },
  {
   "cell_type": "code",
   "execution_count": null,
   "metadata": {},
   "outputs": [],
   "source": [
    "#caracteristicas básicas relplot (relational plot) en seaborn\n",
    "import seaborn as sns\n",
    "\n",
    "propinas=sns.load_dataset(\"tips\") # datatset de pruebas que viene con seaborn\n",
    "propinas\n",
    "\n",
    "sns.relplot(data=propinas,\n",
    "           x=\"total_bill\",\n",
    "           y=\"tip\",\n",
    "           hue=\"smoker\",\n",
    "           style=\"smoker\",\n",
    "           size=\"size\",\n",
    "           col=\"time\")  #col para crear otra grafica en base a otra columna \n",
    "#si le ponemos legend=None nos quita la tabla de referencia de la derecha"
   ]
  },
  {
   "cell_type": "code",
   "execution_count": null,
   "metadata": {},
   "outputs": [],
   "source": [
    "#caracteristicas básicas displot (distribution plot) en seaborn\n",
    "#cuantos casos tenemos en diferentes grupos\n",
    "#histplot, kdeplot, ecdfplot, rugplot\n",
    "\n",
    "import seaborn as sns \n",
    "\n",
    "pinguinos=sns.load_dataset(\"penguins\") # datatset de pruebas que viene con seaborn\n",
    "pinguinos.head()\n",
    "#si no se especifica pone histograma\n",
    "sns.displot(data=pinguinos,\n",
    "            x=\"body_mass_g\");"
   ]
  },
  {
   "cell_type": "code",
   "execution_count": null,
   "metadata": {},
   "outputs": [],
   "source": [
    "#kdeplot estimacion de la densidad de karnel \n",
    "#permite ver la distribucion de una manera suave y continua\n",
    "\n",
    "import seaborn as sns \n",
    "\n",
    "pinguinos=sns.load_dataset(\"penguins\") # datatset de pruebas que viene con seaborn\n",
    "pinguinos.head()\n",
    "#si no se especifica pone histograma\n",
    "sns.displot(data=pinguinos,\n",
    "            x=\"body_mass_g\",\n",
    "            kde=True);   #kde"
   ]
  },
  {
   "cell_type": "code",
   "execution_count": null,
   "metadata": {},
   "outputs": [],
   "source": [
    "# kde con otra columna \n",
    "import seaborn as sns \n",
    "\n",
    "pinguinos=sns.load_dataset(\"penguins\") # datatset de pruebas que viene con seaborn\n",
    "pinguinos.head()\n",
    "#si no se especifica pone histograma\n",
    "sns.displot(data=pinguinos,\n",
    "            x=\"body_mass_g\",\n",
    "            kde=True,   # marca para que sea KDE\n",
    "            col=\"island\"); #se agrega la columna y nos divide el grafico por islas en este caso"
   ]
  },
  {
   "cell_type": "code",
   "execution_count": null,
   "metadata": {},
   "outputs": [],
   "source": [
    "#rugplot  Es una forma compacta de visualizar los datos nos pone marcas por cada dato\n",
    "import seaborn as sns \n",
    "\n",
    "pinguinos=sns.load_dataset(\"penguins\") # datatset de pruebas que viene con seaborn\n",
    "pinguinos.head()\n",
    "#si no se especifica pone histograma\n",
    "sns.displot(data=pinguinos,\n",
    "            x=\"flipper_length_mm\",\n",
    "            kind=\"kde\",   #al tener kde tambien tenemos suavizada la linea\n",
    "            rug=True);     #al tener rug pone las marcas por cada punto de dato"
   ]
  },
  {
   "cell_type": "code",
   "execution_count": null,
   "metadata": {},
   "outputs": [],
   "source": [
    "#Variables Categoricas con seaborn\n",
    "#catplot (categorical plot) pueden ser stripplot,swarmplot,boxplot,violinplot,poinplot,barplot\n",
    "# strip\n",
    "import seaborn as sns \n",
    "\n",
    "propinas=sns.load_dataset(\"tips\")\n",
    "sns.catplot(data=propinas,\n",
    "            kind=\"strip\",\n",
    "            x=\"day\", \n",
    "            y=\"total_bill\",\n",
    "            hue=\"smoker\" \n",
    "                 );"
   ]
  },
  {
   "cell_type": "code",
   "execution_count": null,
   "metadata": {},
   "outputs": [],
   "source": [
    "# swarm  esparce los puntos a lo largo del eje para que sea mas legible\n",
    "import seaborn as sns \n",
    "\n",
    "propinas=sns.load_dataset(\"tips\")\n",
    "sns.catplot(data=propinas,\n",
    "            kind=\"swarm\",\n",
    "            x=\"day\", \n",
    "            y=\"total_bill\",\n",
    "            hue=\"smoker\" \n",
    "                 );"
   ]
  },
  {
   "cell_type": "code",
   "execution_count": null,
   "metadata": {},
   "outputs": [],
   "source": [
    "# box  se muetran los cuartiles(bigotes) la media y los valores atípicos es lo que sale de la caja (circulos)\n",
    "import seaborn as sns \n",
    "\n",
    "propinas=sns.load_dataset(\"tips\")\n",
    "sns.catplot(data=propinas,\n",
    "            kind=\"box\",  #diagrama de caja y bigotes\n",
    "             x=\"day\", \n",
    "            y=\"total_bill\",\n",
    "            hue=\"smoker\" \n",
    "                 );"
   ]
  },
  {
   "cell_type": "code",
   "execution_count": null,
   "metadata": {},
   "outputs": [],
   "source": [
    "# violinplot igual nos muestran la media y los cuartiles\n",
    "import seaborn as sns \n",
    "\n",
    "propinas=sns.load_dataset(\"tips\")\n",
    "sns.catplot(data=propinas,\n",
    "            kind=\"violin\",\n",
    "            x=\"day\", \n",
    "            y=\"total_bill\",\n",
    "            hue=\"smoker\" \n",
    "                 );"
   ]
  },
  {
   "cell_type": "code",
   "execution_count": null,
   "metadata": {},
   "outputs": [],
   "source": [
    "# pointplot  estimaciones puntuales usando marcadores de punto, las lineas nos indican que \n",
    "# tan agrupados estan los valores, entre mas largas mas dispersos\n",
    "import seaborn as sns \n",
    "\n",
    "propinas=sns.load_dataset(\"tips\")\n",
    "sns.catplot(data=propinas,\n",
    "            kind=\"point\",\n",
    "            x=\"day\", \n",
    "            y=\"total_bill\",\n",
    "            hue=\"smoker\" \n",
    "                 );"
   ]
  },
  {
   "cell_type": "code",
   "execution_count": null,
   "metadata": {},
   "outputs": [],
   "source": [
    "# barplot nos muesra la relacion entre una variable categorica y una numerica\n",
    "#las lineas negras representan los intervalos de confianza\n",
    "import seaborn as sns \n",
    "\n",
    "propinas=sns.load_dataset(\"tips\")\n",
    "sns.catplot(data=propinas,\n",
    "            kind=\"bar\",\n",
    "            x=\"day\", \n",
    "            y=\"total_bill\",\n",
    "            hue=\"smoker\" \n",
    "                 );"
   ]
  },
  {
   "cell_type": "code",
   "execution_count": null,
   "metadata": {},
   "outputs": [],
   "source": [
    "#Vista multiples en seaborn  joinplot\n",
    "import seaborn as sns \n",
    "\n",
    "pinguinos=sns.load_dataset(\"penguins\") # datatset de pruebas que viene con seaborn\n",
    "pinguinos.head()\n",
    "\n",
    "sns.jointplot(data=pinguinos,\n",
    "            x=\"flipper_length_mm\",\n",
    "            y=\"bill_length_mm\",\n",
    "            hue=\"species\");   "
   ]
  },
  {
   "cell_type": "code",
   "execution_count": null,
   "metadata": {},
   "outputs": [],
   "source": [
    "#Vista multiples en seaborn  pairplot\n",
    "#pairplot, no se ponen variables x y y \n",
    "# pairplot toma todas las var numericas y las grafica vs todas\n",
    "import seaborn as sns \n",
    "\n",
    "pinguinos=sns.load_dataset(\"penguins\") # datatset de pruebas que viene con seaborn\n",
    "\n",
    "sns.pairplot(data=pinguinos,           \n",
    "            hue=\"species\");  "
   ]
  },
  {
   "cell_type": "code",
   "execution_count": null,
   "metadata": {},
   "outputs": [],
   "source": [
    "#funciones de nivel inferior cuesta mas trabajo construir\n",
    "# pero dan información mas limpia y detallada\n",
    "\n",
    "import seaborn as sns \n",
    "\n",
    "pinguinos=sns.load_dataset(\"penguins\") # datatset de pruebas que viene con seaborn\n",
    "g=sns.PairGrid(pinguinos,\n",
    "               hue=\"species\"); #marca la diferencia por especie\n",
    "\n",
    "#para recortar las graficas duplicadas usamos corner\n",
    "g=sns.PairGrid(pinguinos,\n",
    "               hue=\"species\",  #marca la diferencia por especie\n",
    "               corner=True\n",
    "               ); \n",
    "\n",
    "#para recortar las graficas duplicadas usamos corner\n",
    "g=sns.PairGrid(pinguinos,\n",
    "               hue=\"species\",  #marca la diferencia por especie\n",
    "               corner=True\n",
    "               ); \n",
    "#agregamos caracateristicas de grafico kdeplot\n",
    "g.map_lower(sns.kdeplot,\n",
    "            hue=None,\n",
    "            level=5,\n",
    "            color=\".2\");\n",
    "#agregamos caractaristicas de grafico scatter\n",
    "g.map_lower(sns.scatterplot,\n",
    "            marker=\"+\");\n",
    "\n",
    "\n"
   ]
  },
  {
   "cell_type": "code",
   "execution_count": null,
   "metadata": {},
   "outputs": [],
   "source": [
    "# ahora ponemos los graficos de la diagonal\n",
    "#para recortar las graficas duplicadas usamos corner\n",
    "import seaborn as sns \n",
    "\n",
    "pinguinos=sns.load_dataset(\"penguins\") # datatset de pruebas que viene con seaborn\n",
    "\n",
    "g=sns.PairGrid(pinguinos,\n",
    "               hue=\"species\",  #marca la diferencia por especie\n",
    "               corner=True\n",
    "               ); \n",
    "#agregamos caracateristicas de grafico kdeplot\n",
    "g.map_lower(sns.kdeplot,\n",
    "            hue=None,\n",
    "            level=5,\n",
    "            color=\".2\");\n",
    "#agregamos caractaristicas de grafico scatter\n",
    "g.map_lower(sns.scatterplot,\n",
    "            marker=\"+\");\n",
    "\n",
    "g.map_diag(sns.histplot,\n",
    "           element=\"step\",\n",
    "           linewidth=0,\n",
    "           kde=True\n",
    "\n",
    ")\n",
    "\n",
    "g.add_legend(frameon=True);  #agrega las descripciones en la tabla de la derecha\n",
    "g.legend.set_bbox_to_anchor((.61,.6));  #para mover de lugar la tabla de descripciones los valores son coordenadas\n"
   ]
  },
  {
   "cell_type": "code",
   "execution_count": null,
   "metadata": {},
   "outputs": [],
   "source": [
    " # Valores Preconfigurados y personalizar valores\n",
    "import seaborn as sns\n",
    "\n",
    "\n",
    "pinguinos=sns.load_dataset(\"penguins\") # datatset de pruebas que viene con seaborn\n",
    "\n",
    "#aqui normal\n",
    "sns.relplot(data=pinguinos,\n",
    "            x=\"bill_length_mm\",\n",
    "            y=\"bill_depth_mm\",\n",
    "            hue=\"body_mass_g\");\n",
    "#empezamos a personalizar\n",
    "sns.set_theme(style=\"dark\")  #estilo preconfigurado ya existente\n",
    "g=sns.relplot(data=pinguinos,\n",
    "            x=\"bill_length_mm\",\n",
    "            y=\"bill_depth_mm\",\n",
    "            hue=\"body_mass_g\",\n",
    "            palette=\"crest\",\n",
    "            marker=\"x\",\n",
    "            s=100);\n",
    "g.set_axis_labels(\"Largo del pico (mm)\",\n",
    "                 \"Grosor del pico (mm)\",\n",
    "                 labelpad=10); #labelpad es la distancia entre los ejes y las etiquetas\n",
    "g.legend.set_title(\"Masa\\nCorporal(g)\")  # titulo de la tabla de la derecha\n",
    "g.figure.set_size_inches(6.5,4.5) #modificando el tamaño de la figura\n",
    "g.ax.margins(.15); #le damos margen de .15 para que no se vean los bordes pegados a los puntos\n",
    "\n",
    "#hay muchas opciones es buena idea guardar el grafico en una variable en este caso g"
   ]
  },
  {
   "cell_type": "code",
   "execution_count": null,
   "metadata": {},
   "outputs": [],
   "source": [
    "#Nivel de figure y nivel de axes  en seaborn\n",
    "import seaborn as sns\n",
    "\n",
    "pinguinos=sns.load_dataset(\"penguins\")\n",
    "sns.displot(data=pinguinos,   #usando displot que es alto nivel\n",
    "            x=\"flipper_length_mm\",\n",
    "            hue=\"species\", \n",
    "            multiple=\"stack\");  #stack nos pone en pila las columnas de acuerdo al hue "
   ]
  },
  {
   "cell_type": "code",
   "execution_count": null,
   "metadata": {},
   "outputs": [],
   "source": [
    "#Nivel de figure y nivel de axes  en seaborn\n",
    "import seaborn as sns\n",
    "\n",
    "pinguinos=sns.load_dataset(\"penguins\")\n",
    "sns.histplot(data=pinguinos,   #usando hisplot que es bajo nivel\n",
    "            x=\"flipper_length_mm\",\n",
    "            hue=\"species\", \n",
    "            multiple=\"stack\");  #stack nos pone en pila las columnas de acuerdo al hue \n",
    "\n",
    "#comparando el displot con el hisplot vemos las diferencias por ejemplo \n",
    "# la tabla se muestra adentro de la figura y ademas está enmarcado en en el hisplot"
   ]
  },
  {
   "cell_type": "code",
   "execution_count": null,
   "metadata": {},
   "outputs": [],
   "source": [
    "#Nivel de figure y nivel de axes  en seaborn\n",
    "import seaborn as sns\n",
    "\n",
    "pinguinos=sns.load_dataset(\"penguins\")\n",
    "sns.displot(data=pinguinos,   #usando displot que es alto nivel\n",
    "            x=\"flipper_length_mm\",\n",
    "            hue=\"species\", \n",
    "            col=\"species\");\n",
    "#solo podemos hacer multiples figuras con graficos de alto nivel"
   ]
  },
  {
   "cell_type": "code",
   "execution_count": null,
   "metadata": {},
   "outputs": [],
   "source": [
    "import seaborn as sns\n",
    "\n",
    "pinguinos=sns.load_dataset(\"penguins\")\n",
    "graf=sns.relplot(data=pinguinos,   #usando displot que es alto nivel\n",
    "            x=\"flipper_length_mm\",\n",
    "            y=\"bill_length_mm\",\n",
    "              col=\"sex\"  );\n",
    "graf.set_axis_labels(\"Largo_aletas (mm)\",\n",
    "                    \"Largo_Pico (mm)\");\n",
    "\n",
    "#estas funciones como set_axis_label solo funcionan con graficos que trabajan a nivel figura"
   ]
  }
 ],
 "metadata": {
  "kernelspec": {
   "display_name": ".venv",
   "language": "python",
   "name": "python3"
  },
  "language_info": {
   "codemirror_mode": {
    "name": "ipython",
    "version": 3
   },
   "file_extension": ".py",
   "mimetype": "text/x-python",
   "name": "python",
   "nbconvert_exporter": "python",
   "pygments_lexer": "ipython3",
   "version": "3.12.5"
  }
 },
 "nbformat": 4,
 "nbformat_minor": 2
}
